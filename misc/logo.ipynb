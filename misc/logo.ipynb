{
 "cells": [
  {
   "cell_type": "markdown",
   "source": [
    "Inspired by seaborn;s open logo:\n",
    "- https://github.com/mwaskom/seaborn/issues/2243\n",
    "- https://gist.github.com/mwaskom/7eb7d01d9aa25ea83894293027d12a8c\n",
    "- https://seaborn.pydata.org/citing.html"
   ],
   "metadata": {
    "collapsed": false,
    "pycharm": {
     "name": "#%% md\n"
    }
   }
  },
  {
   "cell_type": "code",
   "execution_count": 1,
   "outputs": [
    {
     "name": "stdout",
     "output_type": "stream",
     "text": [
      "Requirement already satisfied: matplotlib in /Users/TPer31/git_tree/personal_projects/ridgeplot/.venv/lib/python3.7/site-packages (3.5.3)\r\n",
      "Requirement already satisfied: seaborn in /Users/TPer31/git_tree/personal_projects/ridgeplot/.venv/lib/python3.7/site-packages (0.11.2)\r\n",
      "Requirement already satisfied: pyparsing>=2.2.1 in /Users/TPer31/git_tree/personal_projects/ridgeplot/.venv/lib/python3.7/site-packages (from matplotlib) (3.0.9)\r\n",
      "Requirement already satisfied: python-dateutil>=2.7 in /Users/TPer31/git_tree/personal_projects/ridgeplot/.venv/lib/python3.7/site-packages (from matplotlib) (2.8.2)\r\n",
      "Requirement already satisfied: pillow>=6.2.0 in /Users/TPer31/git_tree/personal_projects/ridgeplot/.venv/lib/python3.7/site-packages (from matplotlib) (9.2.0)\r\n",
      "Requirement already satisfied: kiwisolver>=1.0.1 in /Users/TPer31/git_tree/personal_projects/ridgeplot/.venv/lib/python3.7/site-packages (from matplotlib) (1.4.4)\r\n",
      "Requirement already satisfied: numpy>=1.17 in /Users/TPer31/git_tree/personal_projects/ridgeplot/.venv/lib/python3.7/site-packages (from matplotlib) (1.21.6)\r\n",
      "Requirement already satisfied: fonttools>=4.22.0 in /Users/TPer31/git_tree/personal_projects/ridgeplot/.venv/lib/python3.7/site-packages (from matplotlib) (4.36.0)\r\n",
      "Requirement already satisfied: cycler>=0.10 in /Users/TPer31/git_tree/personal_projects/ridgeplot/.venv/lib/python3.7/site-packages (from matplotlib) (0.11.0)\r\n",
      "Requirement already satisfied: packaging>=20.0 in /Users/TPer31/git_tree/personal_projects/ridgeplot/.venv/lib/python3.7/site-packages (from matplotlib) (21.3)\r\n",
      "Requirement already satisfied: scipy>=1.0 in /Users/TPer31/git_tree/personal_projects/ridgeplot/.venv/lib/python3.7/site-packages (from seaborn) (1.7.3)\r\n",
      "Requirement already satisfied: pandas>=0.23 in /Users/TPer31/git_tree/personal_projects/ridgeplot/.venv/lib/python3.7/site-packages (from seaborn) (1.3.5)\r\n",
      "Requirement already satisfied: typing-extensions in /Users/TPer31/git_tree/personal_projects/ridgeplot/.venv/lib/python3.7/site-packages (from kiwisolver>=1.0.1->matplotlib) (4.3.0)\r\n",
      "Requirement already satisfied: pytz>=2017.3 in /Users/TPer31/git_tree/personal_projects/ridgeplot/.venv/lib/python3.7/site-packages (from pandas>=0.23->seaborn) (2022.2.1)\r\n",
      "Requirement already satisfied: six>=1.5 in /Users/TPer31/git_tree/personal_projects/ridgeplot/.venv/lib/python3.7/site-packages (from python-dateutil>=2.7->matplotlib) (1.16.0)\r\n"
     ]
    }
   ],
   "source": [
    "!pip install matplotlib seaborn"
   ],
   "metadata": {
    "collapsed": false,
    "pycharm": {
     "name": "#%%\n"
    }
   }
  },
  {
   "cell_type": "code",
   "execution_count": 2,
   "metadata": {
    "collapsed": true,
    "pycharm": {
     "name": "#%%\n"
    }
   },
   "outputs": [],
   "source": [
    "import matplotlib.pyplot as plt\n",
    "import numpy as np\n",
    "from matplotlib import patches\n",
    "from matplotlib.colors import LinearSegmentedColormap\n",
    "from scipy.signal import gaussian\n",
    "from scipy.spatial import distance\n",
    "\n"
   ]
  },
  {
   "cell_type": "code",
   "execution_count": 3,
   "outputs": [],
   "source": [
    "xy_cache = {}\n",
    "def poisson_disc_sample(array_radius, pad_radius, candidates=100, d=2, rng=None):\n",
    "    \"\"\"Find positions using poisson-disc sampling.\"\"\"\n",
    "    # See http://bost.ocks.org/mike/algorithms/\n",
    "\n",
    "    key = array_radius, pad_radius\n",
    "    if key in xy_cache:\n",
    "        return xy_cache[key]\n",
    "\n",
    "    if rng is None:\n",
    "        rng = np.random.default_rng()\n",
    "    uniform = rng.uniform\n",
    "    randint = rng.integers\n",
    "\n",
    "    # Start at a fixed point we know will work\n",
    "    start = np.zeros(d)\n",
    "    samples = [start]\n",
    "    queue = [start]\n",
    "\n",
    "    while queue:\n",
    "\n",
    "        # Pick a sample to expand from\n",
    "        s_idx = randint(len(queue))\n",
    "        s = queue[s_idx]\n",
    "\n",
    "        for i in range(candidates):\n",
    "            # Generate a candidate from this sample\n",
    "            coords = uniform(s - 2 * pad_radius, s + 2 * pad_radius, d)\n",
    "\n",
    "            # Check the three conditions to accept the candidate\n",
    "            in_array = np.sqrt(np.sum(coords ** 2)) < array_radius\n",
    "            in_ring = np.all(distance.cdist(samples, [coords]) > pad_radius)\n",
    "\n",
    "            if in_array and in_ring:\n",
    "                # Accept the candidate\n",
    "                samples.append(coords)\n",
    "                queue.append(coords)\n",
    "                break\n",
    "\n",
    "        if (i + 1) == candidates:\n",
    "            # We've exhausted the particular sample\n",
    "            queue.pop(s_idx)\n",
    "\n",
    "    samples = np.array(samples)\n",
    "    xy_cache[key] = samples\n",
    "\n",
    "    return samples\n"
   ],
   "metadata": {
    "collapsed": false,
    "pycharm": {
     "name": "#%%\n"
    }
   }
  },
  {
   "cell_type": "code",
   "execution_count": 4,
   "outputs": [],
   "source": [
    "def logo(ax,\n",
    "        colors,\n",
    "        pdf_means,\n",
    "        pdf_sigma, dy, y0, w, h,\n",
    "):\n",
    "\n",
    "    # Square, invisible axes with specified limits to center the logo\n",
    "    ax.set(xlim=(40, 90), ylim=(0, 50))\n",
    "    ax.set_axis_off()\n",
    "    ax.set_aspect('equal')\n",
    "\n",
    "    # Full x and y grids for a gaussian curve\n",
    "    x = np.arange(101)\n",
    "    y = gaussian(x.size, pdf_sigma)\n",
    "\n",
    "    x0 = 30  # Magic number\n",
    "    xx = x[x0:]\n",
    "\n",
    "    # Vertical distances between the PDF curves\n",
    "    n = len(pdf_means)\n",
    "    dys = np.linspace(0, (n - 1) * dy, n) - (n * dy / 2)\n",
    "    dys -= dys.mean()\n",
    "\n",
    "    # Compute the PDF curves with vertical offsets\n",
    "    pdfs = [h * (y[x0 - m:-m] + y0 + dy) for m, dy in zip(pdf_means, dys)]\n",
    "\n",
    "    # Add in constants to fill from bottom and to top\n",
    "    pdfs.insert(0, np.full(xx.shape, -h))\n",
    "    pdfs.append(np.full(xx.shape, 50 + h))\n",
    "\n",
    "    # Add each smooth PDF \"wave\"\n",
    "    for i, pdf in enumerate(pdfs[1:]):\n",
    "        colors_i = colors[i]\n",
    "\n",
    "        poly = ax.fill_between(\n",
    "            xx,\n",
    "            pdfs[i] + w,\n",
    "            pdf,\n",
    "            # color=colors_i[0],\n",
    "            color='none',\n",
    "            alpha=1,\n",
    "            antialiased=True,\n",
    "            lw=0,\n",
    "        )\n",
    "        poly.set_clip_path(circle_fg)\n",
    "\n",
    "        #\n",
    "        poly_path = poly.get_paths()[0]\n",
    "        # circle_fg_path = circle_fg.get_path()\n",
    "\n",
    "        gradient = plt.imshow(\n",
    "            np.linspace(0, 1, 256).reshape((1, -1)),\n",
    "            cmap=LinearSegmentedColormap.from_list(\"Custom\", colors_i, N=3000),\n",
    "            aspect='auto',\n",
    "            extent=[\n",
    "                poly_path.vertices[:, 0].min(),\n",
    "                poly_path.vertices[:, 0].max(),\n",
    "                poly_path.vertices[:, 1].min(),\n",
    "                poly_path.vertices[:, 1].max(),\n",
    "            ],\n",
    "        )\n",
    "        gradient.set_clip_path(poly_path, transform=ax.transData)\n",
    "\n"
   ],
   "metadata": {
    "collapsed": false,
    "pycharm": {
     "name": "#%%\n"
    }
   }
  },
  {
   "cell_type": "code",
   "execution_count": 178,
   "outputs": [
    {
     "data": {
      "text/plain": "<Figure size 300x300 with 1 Axes>",
      "image/png": "[encoded data removed]"
     },
     "metadata": {
      "needs_background": "light"
     },
     "output_type": "display_data"
    }
   ],
   "source": [
    "plt.rcParams[\"figure.dpi\"] = 150\n",
    "\n",
    "bg_color = [1, 1, 1, 0]\n",
    "# bg_color = [1, 1, 1, 1]\n",
    "# bg_color = \"#34363C\"\n",
    "\n",
    "\n",
    "fig, ax = plt.subplots(figsize=(2, 2), facecolor=bg_color)\n",
    "\n",
    "# Clipping artist (not shown) for the interior elements\n",
    "radius = 25\n",
    "center = (65, 25)\n",
    "circle_fg = patches.Circle(center, radius=radius, transform=ax.transData)\n",
    "\n",
    "logo(\n",
    "    ax,\n",
    "    # plotly logo blues\n",
    "    # colors=[\n",
    "    #     [0.22, 0.50, 0.96],\n",
    "    #     [0.31, 0.62, 0.97],\n",
    "    #     [0.40, 0.73, 0.99],\n",
    "    #     [0.48, 0.85, 1.0],\n",
    "    # ],\n",
    "    # plotly logo colors\n",
    "    # colors=[\n",
    "    #     [0.97, 0.24, 0.47],\n",
    "    #     [0.85, 0.47, 0.64],\n",
    "    #     [0.73, 0.65, 0.80],\n",
    "    #     [0.54, 0.86, 0.97],\n",
    "    # ],\n",
    "    # my blues\n",
    "    # colors=[\n",
    "    #     ([0.48, 0.85, 1.0], ),\n",
    "    #     ([0.40, 0.73, 1.0], ),\n",
    "    #     ([0.31, 0.62, 1.0], ),\n",
    "    #     ([0.22, 0.50, 1.0], ),\n",
    "    # ][::-1],\n",
    "    colors=[\n",
    "        # (\"#0072FF\", \"#00C6FF\"),\n",
    "        # (\"#0072FF\", \"#00C6FF\"),\n",
    "        # (\"#0072FF\", \"#00C6FF\"),\n",
    "        # (\"#0072FF\", \"#00C6FF\"),\n",
    "        # (\"#0072FF\", \"#00C6FF\"),\n",
    "        #\n",
    "        # (\"#9600FF\", \"#AEBAF8\"),\n",
    "        # (\"#9600FF\", \"#AEBAF8\"),\n",
    "        # (\"#9600FF\", \"#AEBAF8\"),\n",
    "        # (\"#9600FF\", \"#AEBAF8\"),\n",
    "        # (\"#9600FF\", \"#AEBAF8\"),\n",
    "        #\n",
    "        # (\"#04B0FD\", \"#00E1FA\"),\n",
    "        # (\"#04B0FD\", \"#00E1FA\"),\n",
    "        # (\"#04B0FD\", \"#00E1FA\"),\n",
    "        # (\"#04B0FD\", \"#00E1FA\"),\n",
    "        # (\"#04B0FD\", \"#00E1FA\"),\n",
    "        #\n",
    "        (\"#FE5066\", \"#FFE136\"),\n",
    "        (\"#FE5066\", \"#FFE136\"),\n",
    "        (\"#FE5066\", \"#FFE136\"),\n",
    "        (\"#FE5066\", \"#FFE136\"),\n",
    "        # (\"#FE5066\", \"#FFE136\"),\n",
    "        # (\"#FE5066\", \"#FFE136\"),\n",
    "        #\n",
    "        # (\"#8145FD\", \"#FF3AA1\"),\n",
    "        # (\"#8145FD\", \"#FF3AA1\"),\n",
    "        # (\"#8145FD\", \"#FF3AA1\"),\n",
    "        # (\"#8145FD\", \"#FF3AA1\"),\n",
    "        # (\"#8145FD\", \"#FF3AA1\"),\n",
    "        #\n",
    "        # ([0.2, 0.5, 1], [0.5, 0.9, 1]),\n",
    "        # ([0.2, 0.5, 1], [0.5, 0.9, 1]),\n",
    "        # ([0.2, 0.5, 1], [0.5, 0.9, 1]),\n",
    "        # ([0.2, 0.5, 1], [0.5, 0.9, 1]),\n",
    "        # ([0.2, 0.5, 1], [0.5, 0.9, 1]),\n",
    "    ][::-1],\n",
    "    # pandas logo colors\n",
    "    # colors=[\n",
    "    #     [1.00, 0.79, 0.00],  # yellow\n",
    "    #     [0.91, 0.01, 0.53],  # magenta\n",
    "    #     [0.08, 0.03, 0.33],  # blue\n",
    "    #     [1.00, 1.00, 1.00],  # white\n",
    "    # ][::-1],\n",
    "    # plotly default colors\n",
    "    # colors=[\n",
    "    #     (\"#FFB782\", \"#FFA15A\", \"#FFA15A\", \"#FFA15A\", \"#FFBA88\"),  # ORANGE: \"#FFA15A\", \"#FFB782\", \"#FFBA88\"\n",
    "    #     (\"#C28CFC\", \"#AB63FA\", \"#AB63FA\", \"#AB63FA\", \"#C693FD\"),  # PURPLE: \"#AB63FA\", \"#C28CFC\", \"#C693FD\"\n",
    "    #     (\"#6ADAB2\", \"#00CC96\", \"#00CC96\", \"#00CC96\", \"#74DCB7\"),  # GREEN:  \"#00CC96\", \"#6ADAB2\", \"#74DCB7\"\n",
    "    #     (\"#F4806C\", \"#EF553B\", \"#EF553B\", \"#EF553B\", \"#F58674\"),  # RED:    \"#EF553B\", \"#F4806C\", \"#F58674\"\n",
    "    #     (\"#7D86FC\", \"#636EFA\", \"#636EFA\", \"#636EFA\", \"#818AFC\"),  # BLUE:   \"#636EFA\", \"#7D86FC\", \"#818AFC\"\n",
    "    # ][::-1],\n",
    "    pdf_means=[12, 18, 13],\n",
    "    pdf_sigma=10,\n",
    "    dy=1.08,\n",
    "    y0=1.28,\n",
    "    w=2.2,\n",
    "    h=12,\n",
    ")\n",
    "\n",
    "plt.subplots_adjust(left=0., right=1, top=1, bottom=0.)\n",
    "fig.savefig(\"logo-badge.png\", dpi=300)\n",
    "plt.show()"
   ],
   "metadata": {
    "collapsed": false,
    "pycharm": {
     "name": "#%%\n"
    }
   }
  },
  {
   "cell_type": "code",
   "execution_count": 179,
   "outputs": [
    {
     "data": {
      "text/plain": "<Figure size 300x300 with 1 Axes>",
      "image/png": "[encoded data removed]"
     },
     "metadata": {
      "needs_background": "light"
     },
     "output_type": "display_data"
    }
   ],
   "source": [
    "image = plt.imread('logo-badge.png')\n",
    "\n",
    "fig, ax = plt.subplots(figsize=(2, 2), facecolor=bg_color)\n",
    "im = ax.imshow(image)\n",
    "im.set_clip_path(patches.Circle((300, 300), radius=300, transform=ax.transData))\n",
    "\n",
    "ax.set(xlim=(0, 600), ylim=(0, 600))\n",
    "ax.set_axis_off()\n",
    "ax.set_aspect('equal')\n",
    "ax.invert_yaxis()\n",
    "\n",
    "plt.subplots_adjust(left=0., right=1, top=1, bottom=0.)\n",
    "fig.savefig(\"result.png\", facecolor=bg_color, dpi=300)"
   ],
   "metadata": {
    "collapsed": false,
    "pycharm": {
     "name": "#%%\n"
    }
   }
  },
  {
   "cell_type": "code",
   "execution_count": 143,
   "outputs": [],
   "source": [],
   "metadata": {
    "collapsed": false,
    "pycharm": {
     "name": "#%%\n"
    }
   }
  },
  {
   "cell_type": "code",
   "execution_count": 46,
   "outputs": [],
   "source": [],
   "metadata": {
    "collapsed": false,
    "pycharm": {
     "name": "#%%\n"
    }
   }
  }
 ],
 "metadata": {
  "kernelspec": {
   "display_name": "Python 3",
   "language": "python",
   "name": "python3"
  },
  "language_info": {
   "codemirror_mode": {
    "name": "ipython",
    "version": 2
   },
   "file_extension": ".py",
   "mimetype": "text/x-python",
   "name": "python",
   "nbconvert_exporter": "python",
   "pygments_lexer": "ipython2",
   "version": "2.7.6"
  }
 },
 "nbformat": 4,
 "nbformat_minor": 0
}