{
  "cells": [
    {
      "cell_type": "markdown",
      "metadata": {
        "collapsed": false,
        "pycharm": {
          "name": "#%% md\n"
        }
      },
      "source": [
        "Inspired by seaborn's open logo:\n",
        "- https://github.com/mwaskom/seaborn/issues/2243\n",
        "- https://gist.github.com/mwaskom/7eb7d01d9aa25ea83894293027d12a8c\n",
        "- https://seaborn.pydata.org/citing.html"
      ]
    },
    {
      "cell_type": "code",
      "execution_count": 3,
      "metadata": {
        "ExecuteTime": {
          "end_time": "2023-08-20T01:44:01.467155Z",
          "start_time": "2023-08-20T01:43:59.872829Z"
        },
        "collapsed": false,
        "pycharm": {
          "name": "#%%\n"
        }
      },
      "outputs": [
        {
          "name": "stdout",
          "output_type": "stream",
          "text": [
            "Requirement already satisfied: matplotlib in /Users/TPer31/git_tree/personal_projects/ridgeplot/.venv/lib/python3.8/site-packages (from -r requirements.txt (line 1)) (3.7.2)\r\n",
            "Requirement already satisfied: numpy in /Users/TPer31/git_tree/personal_projects/ridgeplot/.venv/lib/python3.8/site-packages (from -r requirements.txt (line 2)) (1.24.4)\r\n",
            "Requirement already satisfied: scipy in /Users/TPer31/git_tree/personal_projects/ridgeplot/.venv/lib/python3.8/site-packages (from -r requirements.txt (line 3)) (1.10.1)\r\n",
            "Requirement already satisfied: contourpy>=1.0.1 in /Users/TPer31/git_tree/personal_projects/ridgeplot/.venv/lib/python3.8/site-packages (from matplotlib->-r requirements.txt (line 1)) (1.1.0)\r\n",
            "Requirement already satisfied: cycler>=0.10 in /Users/TPer31/git_tree/personal_projects/ridgeplot/.venv/lib/python3.8/site-packages (from matplotlib->-r requirements.txt (line 1)) (0.11.0)\r\n",
            "Requirement already satisfied: fonttools>=4.22.0 in /Users/TPer31/git_tree/personal_projects/ridgeplot/.venv/lib/python3.8/site-packages (from matplotlib->-r requirements.txt (line 1)) (4.42.0)\r\n",
            "Requirement already satisfied: kiwisolver>=1.0.1 in /Users/TPer31/git_tree/personal_projects/ridgeplot/.venv/lib/python3.8/site-packages (from matplotlib->-r requirements.txt (line 1)) (1.4.4)\r\n",
            "Requirement already satisfied: packaging>=20.0 in /Users/TPer31/git_tree/personal_projects/ridgeplot/.venv/lib/python3.8/site-packages (from matplotlib->-r requirements.txt (line 1)) (23.1)\r\n",
            "Requirement already satisfied: pillow>=6.2.0 in /Users/TPer31/git_tree/personal_projects/ridgeplot/.venv/lib/python3.8/site-packages (from matplotlib->-r requirements.txt (line 1)) (10.0.0)\r\n",
            "Requirement already satisfied: pyparsing<3.1,>=2.3.1 in /Users/TPer31/git_tree/personal_projects/ridgeplot/.venv/lib/python3.8/site-packages (from matplotlib->-r requirements.txt (line 1)) (3.0.9)\r\n",
            "Requirement already satisfied: python-dateutil>=2.7 in /Users/TPer31/git_tree/personal_projects/ridgeplot/.venv/lib/python3.8/site-packages (from matplotlib->-r requirements.txt (line 1)) (2.8.2)\r\n",
            "Requirement already satisfied: importlib-resources>=3.2.0 in /Users/TPer31/git_tree/personal_projects/ridgeplot/.venv/lib/python3.8/site-packages (from matplotlib->-r requirements.txt (line 1)) (6.0.1)\r\n",
            "Requirement already satisfied: zipp>=3.1.0 in /Users/TPer31/git_tree/personal_projects/ridgeplot/.venv/lib/python3.8/site-packages (from importlib-resources>=3.2.0->matplotlib->-r requirements.txt (line 1)) (3.16.2)\r\n",
            "Requirement already satisfied: six>=1.5 in /Users/TPer31/git_tree/personal_projects/ridgeplot/.venv/lib/python3.8/site-packages (from python-dateutil>=2.7->matplotlib->-r requirements.txt (line 1)) (1.16.0)\r\n"
          ]
        }
      ],
      "source": [
        "!pip install -r requirements.txt"
      ]
    },
    {
      "cell_type": "code",
      "execution_count": 127,
      "metadata": {
        "ExecuteTime": {
          "end_time": "2023-08-21T00:32:26.733773Z",
          "start_time": "2023-08-21T00:32:26.724931Z"
        },
        "collapsed": true,
        "pycharm": {
          "name": "#%%\n"
        }
      },
      "outputs": [],
      "source": [
        "from typing import Union, Tuple, List, Dict\n",
        "\n",
        "import matplotlib.pyplot as plt\n",
        "import numpy as np\n",
        "from matplotlib import patches\n",
        "from matplotlib.collections import PolyCollection\n",
        "from matplotlib.colors import LinearSegmentedColormap\n",
        "from matplotlib.path import Path\n",
        "from scipy.signal.windows import gaussian\n"
      ]
    },
    {
      "cell_type": "code",
      "execution_count": 161,
      "metadata": {
        "ExecuteTime": {
          "end_time": "2023-08-21T00:38:56.949672Z",
          "start_time": "2023-08-21T00:38:56.942783Z"
        },
        "collapsed": false,
        "pycharm": {
          "name": "#%%\n"
        }
      },
      "outputs": [],
      "source": [
        "Color = Union[str, Tuple[float, float, float]]\n",
        "ColorsRow = Union[Color, List[Color]]\n",
        "Colors = Tuple[ColorsRow, ColorsRow, ColorsRow, ColorsRow]\n",
        "\n",
        "\n",
        "def logo(\n",
        "        ax: plt.Axes,\n",
        "        colors: Colors,\n",
        "        pdf_means: List[int],\n",
        "        pdf_sigma: float,\n",
        "        dy: float,\n",
        "        y0: float,\n",
        "        w: float,\n",
        "        h: float,\n",
        "):\n",
        "    # Square, invisible axes with specified limits to center the logo\n",
        "    xlim=(40, 90)\n",
        "    ylim=(0, 50)\n",
        "    ax.set(xlim=xlim, ylim=ylim)\n",
        "    ax.set_axis_off()\n",
        "    ax.set_aspect('equal')\n",
        "\n",
        "    # Full x and y grids for a gaussian curve\n",
        "    x = np.arange(101)\n",
        "    y = gaussian(x.size, pdf_sigma)\n",
        "\n",
        "    x0 = 30  # Magic number\n",
        "    xx = x[x0:]\n",
        "\n",
        "    # Vertical distances between the PDF curves\n",
        "    n = len(pdf_means)\n",
        "    dys = np.linspace(0, (n - 1) * dy, n) - (n * dy / 2)\n",
        "    dys -= dys.mean()\n",
        "\n",
        "    # Compute the PDF curves with vertical offsets\n",
        "    pdfs = [h * (y[x0 - m:-m] + y0 + dy) for m, dy in zip(pdf_means, dys)]\n",
        "\n",
        "    # Add in constants to fill from bottom and to top\n",
        "    pdfs.insert(0, np.full(xx.shape, -h))\n",
        "    pdfs.append(np.full(xx.shape, 50 + h))\n",
        "\n",
        "    for i, pdf in enumerate(pdfs[1:]):\n",
        "        row_colors = colors[i]\n",
        "        if not isinstance(row_colors, list):\n",
        "            row_colors = [row_colors, row_colors]\n",
        "        elif len(row_colors) == 0:\n",
        "            raise ValueError(\"Empty row_colors\")\n",
        "        elif len(row_colors) == 1:\n",
        "            row_colors = row_colors * 2\n",
        "\n",
        "        poly: PolyCollection = ax.fill_between(\n",
        "            xx,\n",
        "            pdfs[i] + w,\n",
        "            pdf,\n",
        "            color='none',\n",
        "            alpha=1,\n",
        "            antialiased=True,\n",
        "            lw=0,\n",
        "        )\n",
        "        poly_path: Path = poly.get_paths()[0]\n",
        "        gradient = plt.imshow(\n",
        "            np.linspace(0, 1, 256).reshape((1, -1)),\n",
        "            cmap=LinearSegmentedColormap.from_list(\"Custom\", row_colors),\n",
        "            aspect='equal',\n",
        "            extent=(*xlim, *ylim),\n",
        "        )\n",
        "        gradient.set_clip_path(poly_path, transform=ax.transData)\n",
        "\n",
        "    plt.subplots_adjust(left=0., right=1, top=1, bottom=0.)\n",
        "\n"
      ]
    },
    {
      "cell_type": "code",
      "execution_count": 162,
      "metadata": {
        "ExecuteTime": {
          "end_time": "2023-08-21T00:38:57.322005Z",
          "start_time": "2023-08-21T00:38:57.318316Z"
        },
        "collapsed": false
      },
      "outputs": [],
      "source": [
        "# COLORS: Dict[str, Colors] = {\n",
        "#     # plotly logo blues\n",
        "#     colors=[\n",
        "#         ([0.22, 0.50, 0.96], ),\n",
        "#         ([0.31, 0.62, 0.97], ),\n",
        "#         ([0.40, 0.73, 0.99], ),\n",
        "#         ([0.48, 0.85, 1.0], ),\n",
        "#     ],\n",
        "#     # plotly logo colors\n",
        "#     colors=[\n",
        "#         ([0.97, 0.24, 0.47], ),\n",
        "#         ([0.85, 0.47, 0.64], ),\n",
        "#         ([0.73, 0.65, 0.80], ),\n",
        "#         ([0.54, 0.86, 0.97], ),\n",
        "#     ],\n",
        "#     # my blues\n",
        "#     colors=[\n",
        "#         ([0.48, 0.85, 1.0], ),\n",
        "#         ([0.40, 0.73, 1.0], ),\n",
        "#         ([0.31, 0.62, 1.0], ),\n",
        "#         ([0.22, 0.50, 1.0], ),\n",
        "#     ][::-1],\n",
        "#     # colors=[\n",
        "#     #     # (\"#0072FF\", \"#00C6FF\"),\n",
        "#     #     # (\"#0072FF\", \"#00C6FF\"),\n",
        "#     #     # (\"#0072FF\", \"#00C6FF\"),\n",
        "#     #     # (\"#0072FF\", \"#00C6FF\"),\n",
        "#     #     # (\"#0072FF\", \"#00C6FF\"),\n",
        "#     #     #\n",
        "#     #     # (\"#9600FF\", \"#AEBAF8\"),\n",
        "#     #     # (\"#9600FF\", \"#AEBAF8\"),\n",
        "#     #     # (\"#9600FF\", \"#AEBAF8\"),\n",
        "#     #     # (\"#9600FF\", \"#AEBAF8\"),\n",
        "#     #     # (\"#9600FF\", \"#AEBAF8\"),\n",
        "#     #     #\n",
        "#     #     # (\"#04B0FD\", \"#00E1FA\"),\n",
        "#     #     # (\"#04B0FD\", \"#00E1FA\"),\n",
        "#     #     # (\"#04B0FD\", \"#00E1FA\"),\n",
        "#     #     # (\"#04B0FD\", \"#00E1FA\"),\n",
        "#     #     # (\"#04B0FD\", \"#00E1FA\"),\n",
        "#     #     #\n",
        "#     #     # (\"#FE5066\", \"#FFE136\"),\n",
        "#     #     # (\"#FE5066\", \"#FFE136\"),\n",
        "#     #     # (\"#FE5066\", \"#FFE136\"),\n",
        "#     #     # (\"#FE5066\", \"#FFE136\"),\n",
        "#     #     # (\"#FE5066\", \"#FFE136\"),\n",
        "#     #     # (\"#FE5066\", \"#FFE136\"),\n",
        "#     #     #\n",
        "#     #     # (\"#8145FD\", \"#FF3AA1\"),\n",
        "#     #     # (\"#8145FD\", \"#FF3AA1\"),\n",
        "#     #     # (\"#8145FD\", \"#FF3AA1\"),\n",
        "#     #     # (\"#8145FD\", \"#FF3AA1\"),\n",
        "#     #     # (\"#8145FD\", \"#FF3AA1\"),\n",
        "#     #     #\n",
        "#     #     ([0.2, 0.5, 1], [0.5, 0.9, 1]),\n",
        "#     #     ([0.2, 0.5, 1], [0.5, 0.9, 1]),\n",
        "#     #     ([0.2, 0.5, 1], [0.5, 0.9, 1]),\n",
        "#     #     ([0.2, 0.5, 1], [0.5, 0.9, 1]),\n",
        "#     #     ([0.2, 0.5, 1], [0.5, 0.9, 1]),\n",
        "#     # ][::-1],\n",
        "#     # pandas logo colors\n",
        "#     colors=[\n",
        "#         ([1.00, 0.79, 0.00], ),  # yellow\n",
        "#         ([0.91, 0.01, 0.53], ),  # magenta\n",
        "#         ([0.08, 0.03, 0.33], ),  # blue\n",
        "#         ([1.00, 1.00, 1.00], ),  # white\n",
        "#     ][::-1],\n",
        "#     # plotly default colors\n",
        "#     colors=[\n",
        "#         (\"#FFB782\", \"#FFA15A\", \"#FFA15A\", \"#FFA15A\", \"#FFBA88\"),  # ORANGE: \"#FFA15A\", \"#FFB782\", \"#FFBA88\"\n",
        "#         (\"#C28CFC\", \"#AB63FA\", \"#AB63FA\", \"#AB63FA\", \"#C693FD\"),  # PURPLE: \"#AB63FA\", \"#C28CFC\", \"#C693FD\"\n",
        "#         (\"#6ADAB2\", \"#00CC96\", \"#00CC96\", \"#00CC96\", \"#74DCB7\"),  # GREEN:  \"#00CC96\", \"#6ADAB2\", \"#74DCB7\"\n",
        "#         (\"#F4806C\", \"#EF553B\", \"#EF553B\", \"#EF553B\", \"#F58674\"),  # RED:    \"#EF553B\", \"#F4806C\", \"#F58674\"\n",
        "#         (\"#7D86FC\", \"#636EFA\", \"#636EFA\", \"#636EFA\", \"#818AFC\"),  # BLUE:   \"#636EFA\", \"#7D86FC\", \"#818AFC\"\n",
        "#     ][::-1],\n",
        "# }"
      ]
    },
    {
      "cell_type": "code",
      "execution_count": 174,
      "metadata": {
        "ExecuteTime": {
          "end_time": "2023-08-21T10:48:20.431084Z",
          "start_time": "2023-08-21T10:48:20.426701Z"
        },
        "collapsed": false
      },
      "outputs": [],
      "source": [
        "COLORS: Dict[str, Colors] = {\n",
        "    \"plotly-plotly\": (\"#636efa\", \"#EF553B\", \"#00cc96\", \"#ab63fa\"),\n",
        "    \"plotly-plotly-grad\": (\n",
        "        [\"#FFB782\", \"#FFA15A\", \"#FFA15A\", \"#FFA15A\", \"#FFBA88\"],  # ORANGE: \"#FFA15A\", \"#FFB782\", \"#FFBA88\"\n",
        "        [\"#C28CFC\", \"#AB63FA\", \"#AB63FA\", \"#AB63FA\", \"#C693FD\"],  # PURPLE: \"#AB63FA\", \"#C28CFC\", \"#C693FD\"\n",
        "        [\"#6ADAB2\", \"#00CC96\", \"#00CC96\", \"#00CC96\", \"#74DCB7\"],  # GREEN:  \"#00CC96\", \"#6ADAB2\", \"#74DCB7\"\n",
        "        [\"#F4806C\", \"#EF553B\", \"#EF553B\", \"#EF553B\", \"#F58674\"],  # RED:    \"#EF553B\", \"#F4806C\", \"#F58674\"\n",
        "        [\"#7D86FC\", \"#636EFA\", \"#636EFA\", \"#636EFA\", \"#818AFC\"],  # BLUE:   \"#636EFA\", \"#7D86FC\", \"#818AFC\"\n",
        "    )[::-1],\n",
        "    \"plotly-pastel\": (\"#66C5CC\", \"#F89C74\", \"#87C55F\", \"#DCB0F2\", \"#F6CF71\")\n",
        "}"
      ]
    },
    {
      "cell_type": "code",
      "execution_count": 175,
      "metadata": {
        "ExecuteTime": {
          "end_time": "2023-08-21T10:48:22.259809Z",
          "start_time": "2023-08-21T10:48:21.640197Z"
        },
        "collapsed": false,
        "pycharm": {
          "name": "#%%\n"
        }
      },
      "outputs": [
        {
          "data": {
            "image/png": "[encoded data removed]",
            "text/plain": "<Figure size 300x300 with 1 Axes>"
          },
          "metadata": {
            "needs_background": "light"
          },
          "output_type": "display_data"
        }
      ],
      "source": [
        "plt.rcParams[\"figure.dpi\"] = 150\n",
        "\n",
        "bg_color = [1, 1, 1, 0]\n",
        "# bg_color = [1, 1, 1, 1]\n",
        "# bg_color = \"#34363C\"\n",
        "\n",
        "\n",
        "fig, ax = plt.subplots(figsize=(2, 2), facecolor=bg_color)\n",
        "\n",
        "logo(\n",
        "    ax,\n",
        "    colors=COLORS[\"plotly-pastel\"],\n",
        "    pdf_means=[12, 18, 13],\n",
        "    pdf_sigma=10,\n",
        "    dy=1.08,\n",
        "    y0=1.28,\n",
        "    w=2.2,\n",
        "    h=12,\n",
        ")\n",
        "\n",
        "fig.savefig(\"logo-badge.png\", dpi=300)\n",
        "plt.show()"
      ]
    },
    {
      "cell_type": "code",
      "execution_count": 176,
      "metadata": {
        "ExecuteTime": {
          "end_time": "2023-08-21T10:48:22.621487Z",
          "start_time": "2023-08-21T10:48:22.508731Z"
        },
        "collapsed": false,
        "pycharm": {
          "name": "#%%\n"
        }
      },
      "outputs": [
        {
          "data": {
            "image/png": "[encoded data removed]",
            "text/plain": "<Figure size 300x300 with 1 Axes>"
          },
          "metadata": {
            "needs_background": "light"
          },
          "output_type": "display_data"
        }
      ],
      "source": [
        "image = plt.imread('logo-badge.png')\n",
        "\n",
        "fig, ax = plt.subplots(figsize=(2, 2), facecolor=bg_color)\n",
        "im = ax.imshow(image)\n",
        "im.set_clip_path(patches.Circle((300, 300), radius=300, transform=ax.transData))\n",
        "\n",
        "ax.set(xlim=(0, 600), ylim=(0, 600))\n",
        "ax.set_axis_off()\n",
        "ax.set_aspect('equal')\n",
        "ax.invert_yaxis()\n",
        "\n",
        "plt.subplots_adjust(left=0., right=1, top=1, bottom=0.)\n",
        "fig.savefig(\"result.png\", facecolor=bg_color, dpi=300)"
      ]
    },
    {
      "cell_type": "code",
      "execution_count": 177,
      "metadata": {
        "ExecuteTime": {
          "end_time": "2023-08-21T10:48:23.882667Z",
          "start_time": "2023-08-21T10:48:23.831769Z"
        },
        "collapsed": false,
        "pycharm": {
          "name": "#%%\n"
        }
      },
      "outputs": [
        {
          "data": {
            "image/png": "[encoded data removed]",
            "text/plain": "<Figure size 150x150 with 1 Axes>"
          },
          "metadata": {},
          "output_type": "display_data"
        }
      ],
      "source": [
        "image = plt.imread('result.png')\n",
        "\n",
        "fig, ax = plt.subplots(figsize=(1, 1), facecolor=[1, 1, 1, 1])\n",
        "im = ax.imshow(image)\n",
        "\n",
        "plt.axis('off')\n",
        "# plt.subplots_adjust(left=0., right=1, top=1, bottom=0.)\n",
        "plt.show()"
      ]
    },
    {
      "cell_type": "code",
      "execution_count": null,
      "metadata": {
        "collapsed": false
      },
      "outputs": [],
      "source": [
        " "
      ]
    }
  ],
  "metadata": {
    "kernelspec": {
      "display_name": "Python 3",
      "language": "python",
      "name": "python3"
    },
    "language_info": {
      "codemirror_mode": {
        "name": "ipython",
        "version": 2
      },
      "file_extension": ".py",
      "mimetype": "text/x-python",
      "name": "python",
      "nbconvert_exporter": "python",
      "pygments_lexer": "ipython2",
      "version": "2.7.6"
    }
  },
  "nbformat": 4,
  "nbformat_minor": 0
}
